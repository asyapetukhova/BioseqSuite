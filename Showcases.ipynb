{
 "cells": [
  {
   "cell_type": "code",
   "execution_count": 1,
   "metadata": {
    "colab": {
     "base_uri": "https://localhost:8080/",
     "height": 488
    },
    "id": "ObEWAITKI2fA",
    "outputId": "a3363475-9d9f-45c6-c2e9-0da6313a10ae"
   },
   "outputs": [],
   "source": [
    "import time\n",
    "from sklearn.datasets import make_classification\n",
    "from sklearn.model_selection import train_test_split\n",
    "\n",
    "from BioseqSuite import DNASequence, RNASequence, AminoAcidSequence\n",
    "from custom_random_forest import RandomForestClassifierCustom"
   ]
  },
  {
   "cell_type": "code",
   "execution_count": 2,
   "metadata": {
    "colab": {
     "base_uri": "https://localhost:8080/"
    },
    "id": "NTKnzpcqHEni",
    "outputId": "dceb15c0-7328-44d9-b542-fea0914bab7c"
   },
   "outputs": [
    {
     "name": "stdout",
     "output_type": "stream",
     "text": [
      "Время выполнения fit с 1 потоком: 12.844643592834473\n",
      "Время выполнения fit с 2 потоками: 9.130913257598877\n",
      "Время выполнения predict с 1 потоком: 0.34749579429626465\n",
      "Время выполнения predict с 2 потоками: 0.30484747886657715\n",
      "Полученные предсказания совпадают: True\n"
     ]
    }
   ],
   "source": [
    "X, y = make_classification(n_samples=100000)\n",
    "random_forest = RandomForestClassifierCustom(max_depth=30, n_estimators=10, max_features=2, random_state=42)\n",
    "X_train, X_test, y_train, y_test = train_test_split(X, y, test_size=0.2, random_state=42)\n",
    "\n",
    "# Измерение времени обучения с 1 потоком\n",
    "start_time = time.time()\n",
    "random_forest.fit(X_train, y_train, n_jobs=1)\n",
    "fit_time_1_thread = time.time() - start_time\n",
    "\n",
    "# Измерение времени обучения с 2 потоками\n",
    "start_time = time.time()\n",
    "random_forest.fit(X_train, y_train, n_jobs=2)\n",
    "fit_time_2_threads = time.time() - start_time\n",
    "\n",
    "# Измерение времени предсказания с 1 потоком\n",
    "start_time = time.time()\n",
    "y_pred_1_thread = random_forest.predict(X_test, n_jobs=1)\n",
    "predict_time_1_thread = time.time() - start_time\n",
    "\n",
    "# Измерение времени предсказания с 2 потоками\n",
    "start_time = time.time()\n",
    "y_pred_2_threads = random_forest.predict(X_test, n_jobs=2)\n",
    "predict_time_2_threads = time.time() - start_time\n",
    "\n",
    "# Проверка совпадения предсказаний\n",
    "predictions_match = (y_pred_1_thread == y_pred_2_threads).all()\n",
    "\n",
    "# Вывод результатов\n",
    "print(\"Время выполнения fit с 1 потоком:\", fit_time_1_thread)\n",
    "print(\"Время выполнения fit с 2 потоками:\", fit_time_2_threads)\n",
    "print(\"Время выполнения predict с 1 потоком:\", predict_time_1_thread)\n",
    "print(\"Время выполнения predict с 2 потоками:\", predict_time_2_threads)\n",
    "print(\"Полученные предсказания совпадают:\", predictions_match)"
   ]
  },
  {
   "cell_type": "code",
   "execution_count": 4,
   "metadata": {
    "id": "N5NrZc_WQ222"
   },
   "outputs": [
    {
     "name": "stdout",
     "output_type": "stream",
     "text": [
      "4\n",
      "0.5\n"
     ]
    }
   ],
   "source": [
    "# Создание объекта DNASequence\n",
    "dna_seq = DNASequence(\"ATCG\")\n",
    "print(dna_seq.__len__())\n",
    "print(dna_seq.gc_content())"
   ]
  },
  {
   "cell_type": "code",
   "execution_count": 6,
   "metadata": {
    "id": "M5YGDqF5Q3oT"
   },
   "outputs": [
    {
     "name": "stdout",
     "output_type": "stream",
     "text": [
      "AUCG\n"
     ]
    }
   ],
   "source": [
    "# Транскрипция\n",
    "rna_seq = dna_seq.transcribe()\n",
    "print(rna_seq.__str__())"
   ]
  },
  {
   "cell_type": "code",
   "execution_count": 8,
   "metadata": {
    "id": "_goEJS55Q8oE"
   },
   "outputs": [
    {
     "name": "stdout",
     "output_type": "stream",
     "text": [
      "AUCG\n",
      "4\n",
      "UAGC\n"
     ]
    }
   ],
   "source": [
    "# Создание объекта RNASequence\n",
    "rna_seq2 = RNASequence(\"AUCG\")\n",
    "print(rna_seq2.__str__())\n",
    "print(rna_seq2.__len__())\n",
    "print(rna_seq2.complement().__str__())"
   ]
  },
  {
   "cell_type": "code",
   "execution_count": 10,
   "metadata": {
    "id": "8ZZqs2LhRBK2"
   },
   "outputs": [
    {
     "name": "stdout",
     "output_type": "stream",
     "text": [
      "ARND\n",
      "4\n",
      "528.51\n"
     ]
    }
   ],
   "source": [
    "# Создание объекта AminoAcidSequence\n",
    "aa_seq = AminoAcidSequence(\"ARND\")\n",
    "print(aa_seq.__str__())\n",
    "print(aa_seq.__len__())\n",
    "print(aa_seq.molecular_weight())"
   ]
  }
 ],
 "metadata": {
  "colab": {
   "provenance": []
  },
  "kernelspec": {
   "display_name": "Python 3 (ipykernel)",
   "language": "python",
   "name": "python3"
  },
  "language_info": {
   "codemirror_mode": {
    "name": "ipython",
    "version": 3
   },
   "file_extension": ".py",
   "mimetype": "text/x-python",
   "name": "python",
   "nbconvert_exporter": "python",
   "pygments_lexer": "ipython3",
   "version": "3.11.5"
  }
 },
 "nbformat": 4,
 "nbformat_minor": 1
}
